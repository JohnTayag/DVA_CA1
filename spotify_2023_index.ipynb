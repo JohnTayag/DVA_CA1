{
 "cells": [
  {
   "cell_type": "code",
   "execution_count": 7,
   "metadata": {},
   "outputs": [
    {
     "name": "stdout",
     "output_type": "stream",
     "text": [
      "C:\\Users\\john8\\Year 4\\Data Analysis\n",
      "<class 'pandas.core.frame.DataFrame'>\n",
      "RangeIndex: 953 entries, 0 to 952\n",
      "Data columns (total 24 columns):\n",
      " #   Column                Non-Null Count  Dtype \n",
      "---  ------                --------------  ----- \n",
      " 0   track_name            953 non-null    object\n",
      " 1   artist(s)_name        953 non-null    object\n",
      " 2   artist_count          953 non-null    int64 \n",
      " 3   released_year         953 non-null    int64 \n",
      " 4   released_month        953 non-null    int64 \n",
      " 5   released_day          953 non-null    int64 \n",
      " 6   in_spotify_playlists  953 non-null    int64 \n",
      " 7   in_spotify_charts     953 non-null    int64 \n",
      " 8   streams               953 non-null    object\n",
      " 9   in_apple_playlists    953 non-null    int64 \n",
      " 10  in_apple_charts       953 non-null    int64 \n",
      " 11  in_deezer_playlists   953 non-null    object\n",
      " 12  in_deezer_charts      953 non-null    int64 \n",
      " 13  in_shazam_charts      903 non-null    object\n",
      " 14  bpm                   953 non-null    int64 \n",
      " 15  key                   858 non-null    object\n",
      " 16  mode                  953 non-null    object\n",
      " 17  danceability_%        953 non-null    int64 \n",
      " 18  valence_%             953 non-null    int64 \n",
      " 19  energy_%              953 non-null    int64 \n",
      " 20  acousticness_%        953 non-null    int64 \n",
      " 21  instrumentalness_%    953 non-null    int64 \n",
      " 22  liveness_%            953 non-null    int64 \n",
      " 23  speechiness_%         953 non-null    int64 \n",
      "dtypes: int64(17), object(7)\n",
      "memory usage: 178.8+ KB\n"
     ]
    },
    {
     "data": {
      "text/plain": [
       "track_name              0\n",
       "artist(s)_name          0\n",
       "artist_count            0\n",
       "released_year           0\n",
       "released_month          0\n",
       "released_day            0\n",
       "in_spotify_playlists    0\n",
       "in_spotify_charts       0\n",
       "streams                 0\n",
       "in_apple_playlists      0\n",
       "in_apple_charts         0\n",
       "in_deezer_playlists     0\n",
       "in_deezer_charts        0\n",
       "in_shazam_charts        0\n",
       "bpm                     0\n",
       "key                     0\n",
       "mode                    0\n",
       "danceability_%          0\n",
       "valence_%               0\n",
       "energy_%                0\n",
       "acousticness_%          0\n",
       "instrumentalness_%      0\n",
       "liveness_%              0\n",
       "speechiness_%           0\n",
       "dtype: int64"
      ]
     },
     "execution_count": 7,
     "metadata": {},
     "output_type": "execute_result"
    }
   ],
   "source": [
    "import numpy as np\n",
    "import pandas as pd\n",
    "import seaborn as sns\n",
    "import matplotlib.pyplot as plt\n",
    "from matplotlib.pyplot import figure\n",
    "from scipy.stats import pearsonr\n",
    "from sklearn.preprocessing import StandardScaler, MinMaxScaler\n",
    "#reading from csv and overview\n",
    "#https://www.kaggle.com/datasets/aaronfriasr/ufc-fighters-statistics?rvi=1\n",
    "\n",
    "import os\n",
    "cwd = os.getcwd()\n",
    "print(cwd)\n",
    "os.chdir('C://Users//john8/Year 4/Data Analysis')\n",
    "\n",
    "data= pd.read_csv(\"spotify-2023.csv\", encoding='latin-1')\n",
    "\n",
    "data.info()\n",
    "data.head()\n",
    "data.describe()\n",
    "\n",
    "#Data cleaning\n",
    "\n",
    "#Check for null values\n",
    "data.isnull().sum() \n",
    "\n",
    "#in_shazam_charts - 50\n",
    "#key - 95                                      \n",
    "\n",
    "#decide to drop rows where above values are null\n",
    "data.dropna(subset=['in_shazam_charts', 'key'], inplace=True)\n",
    "data.isnull().sum()"
   ]
  }
 ],
 "metadata": {
  "kernelspec": {
   "display_name": "Python 3",
   "language": "python",
   "name": "python3"
  },
  "language_info": {
   "codemirror_mode": {
    "name": "ipython",
    "version": 3
   },
   "file_extension": ".py",
   "mimetype": "text/x-python",
   "name": "python",
   "nbconvert_exporter": "python",
   "pygments_lexer": "ipython3",
   "version": "3.12.1"
  }
 },
 "nbformat": 4,
 "nbformat_minor": 2
}
